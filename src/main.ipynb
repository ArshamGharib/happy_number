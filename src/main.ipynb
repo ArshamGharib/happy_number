{
 "cells": [
  {
   "cell_type": "code",
   "execution_count": 55,
   "id": "36004a7f",
   "metadata": {},
   "outputs": [
    {
     "name": "stdout",
     "output_type": "stream",
     "text": [
      "49\n",
      "97\n",
      "130\n",
      "10\n",
      "1\n"
     ]
    }
   ],
   "source": [
    "n = 7\n",
    "\n",
    "seen_number = set()\n",
    "while (n != 1) and (n not in seen_number):\n",
    "    seen_number.add(n)\n",
    "    n = sum([int(i)**2 for i in str(n)])\n",
    "    print(n)"
   ]
  },
  {
   "cell_type": "code",
   "execution_count": 66,
   "id": "16968a9a",
   "metadata": {},
   "outputs": [],
   "source": [
    "def check_happy(n):\n",
    "    seen_number = set()\n",
    "    while (n != 1) and (n not in seen_number):\n",
    "        seen_number.add(n)\n",
    "        n = sum([int(i)**2 for i in str(n)])\n",
    "    return n == 1"
   ]
  },
  {
   "cell_type": "code",
   "execution_count": 68,
   "id": "14abe49c",
   "metadata": {},
   "outputs": [
    {
     "data": {
      "text/plain": [
       "True"
      ]
     },
     "execution_count": 68,
     "metadata": {},
     "output_type": "execute_result"
    }
   ],
   "source": [
    "check_happy(7)"
   ]
  }
 ],
 "metadata": {
  "kernelspec": {
   "display_name": "pylast",
   "language": "python",
   "name": "python3"
  },
  "language_info": {
   "codemirror_mode": {
    "name": "ipython",
    "version": 3
   },
   "file_extension": ".py",
   "mimetype": "text/x-python",
   "name": "python",
   "nbconvert_exporter": "python",
   "pygments_lexer": "ipython3",
   "version": "3.11.4"
  }
 },
 "nbformat": 4,
 "nbformat_minor": 5
}
